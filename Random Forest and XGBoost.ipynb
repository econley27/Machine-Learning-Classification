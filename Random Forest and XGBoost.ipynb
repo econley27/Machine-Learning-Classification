{
 "cells": [
  {
   "cell_type": "markdown",
   "id": "fd73b5bd",
   "metadata": {},
   "source": [
    "# Library Import"
   ]
  },
  {
   "cell_type": "code",
   "execution_count": 3,
   "id": "b1f5ed22",
   "metadata": {},
   "outputs": [],
   "source": [
    "import pandas as pd\n",
    "import numpy as np\n",
    "from sklearn.ensemble import RandomForestClassifier as rfc\n",
    "from sklearn.metrics import plot_roc_curve, mean_squared_error, roc_auc_score\n",
    "from sklearn.preprocessing import OrdinalEncoder\n",
    "import xgboost as xgb\n",
    "import matplotlib.pyplot as plt\n",
    "import graphviz\n",
    "from sklearn.model_selection import RandomizedSearchCV, GridSearchCV\n",
    "from sklearn.metrics import roc_auc_score\n",
    "from sklearn.model_selection import StratifiedKFold\n",
    "from tabulate import tabulate\n",
    "from IPython.display import display_html\n",
    "import shap"
   ]
  },
  {
   "cell_type": "markdown",
   "id": "4fd76a5f",
   "metadata": {},
   "source": [
    "# Import data and clean it for use with SKLearn"
   ]
  },
  {
   "cell_type": "markdown",
   "id": "5f7ef487",
   "metadata": {},
   "source": [
    "#### Of interesting note, SKLearn doesn't deal with strings. In this data set it is easy enough to pull the B off of the branch variable and go from there. Also, fill NAs with -1 instead of missing for same reason."
   ]
  },
  {
   "cell_type": "code",
   "execution_count": 4,
   "id": "1e59f6a5",
   "metadata": {},
   "outputs": [],
   "source": [
    "df = pd.read_csv('C:/Users/erikc/Desktop/insurance_t.csv')\n",
    "df2 = pd.read_csv('C:/Users/erikc/Desktop/insurance_t.csv')\n",
    "df3 = pd.read_csv('C:/Users/erikc/Desktop/insurance_v.csv')\n",
    "\n",
    "df['BRANCH'] = df['BRANCH'].str.replace('B', '')\n",
    "df2['BRANCH'] = df2['BRANCH'].str.replace('B', '')\n",
    "df3['BRANCH'] = df3['BRANCH'].str.replace('B', '')\n",
    "\n",
    "df.fillna(value = -1, inplace=True)\n",
    "df2.fillna(value = -1, inplace=True)\n",
    "df3.fillna(value = -1, inplace=True)\n",
    "\n",
    "df['BRANCH'] = df['BRANCH'].astype(int)\n",
    "df2['BRANCH'] = df2['BRANCH'].astype(int)\n",
    "df3['BRANCH'] = df3['BRANCH'].astype(int)"
   ]
  },
  {
   "cell_type": "markdown",
   "id": "5b6dbccb",
   "metadata": {},
   "source": [
    "# EDA"
   ]
  },
  {
   "cell_type": "code",
   "execution_count": 5,
   "id": "227b3579",
   "metadata": {},
   "outputs": [
    {
     "name": "stdout",
     "output_type": "stream",
     "text": [
      "<class 'pandas.core.frame.DataFrame'>\n",
      "RangeIndex: 8495 entries, 0 to 8494\n",
      "Data columns (total 38 columns):\n",
      " #   Column   Non-Null Count  Dtype  \n",
      "---  ------   --------------  -----  \n",
      " 0   ACCTAGE  8495 non-null   float64\n",
      " 1   DDA      8495 non-null   int64  \n",
      " 2   DDABAL   8495 non-null   float64\n",
      " 3   DEP      8495 non-null   int64  \n",
      " 4   DEPAMT   8495 non-null   float64\n",
      " 5   CHECKS   8495 non-null   int64  \n",
      " 6   DIRDEP   8495 non-null   int64  \n",
      " 7   NSF      8495 non-null   int64  \n",
      " 8   NSFAMT   8495 non-null   float64\n",
      " 9   PHONE    8495 non-null   float64\n",
      " 10  TELLER   8495 non-null   int64  \n",
      " 11  SAV      8495 non-null   int64  \n",
      " 12  SAVBAL   8495 non-null   float64\n",
      " 13  ATM      8495 non-null   int64  \n",
      " 14  ATMAMT   8495 non-null   float64\n",
      " 15  POS      8495 non-null   float64\n",
      " 16  POSAMT   8495 non-null   float64\n",
      " 17  CD       8495 non-null   int64  \n",
      " 18  CDBAL    8495 non-null   int64  \n",
      " 19  IRA      8495 non-null   int64  \n",
      " 20  IRABAL   8495 non-null   float64\n",
      " 21  INV      8495 non-null   float64\n",
      " 22  INVBAL   8495 non-null   float64\n",
      " 23  MM       8495 non-null   int64  \n",
      " 24  MMBAL    8495 non-null   float64\n",
      " 25  MMCRED   8495 non-null   int64  \n",
      " 26  CC       8495 non-null   float64\n",
      " 27  CCBAL    8495 non-null   float64\n",
      " 28  CCPURC   8495 non-null   float64\n",
      " 29  SDB      8495 non-null   int64  \n",
      " 30  INCOME   8495 non-null   float64\n",
      " 31  LORES    8495 non-null   float64\n",
      " 32  HMVAL    8495 non-null   float64\n",
      " 33  AGE      8495 non-null   float64\n",
      " 34  CRSCORE  8495 non-null   float64\n",
      " 35  INAREA   8495 non-null   int64  \n",
      " 36  INS      8495 non-null   int64  \n",
      " 37  BRANCH   8495 non-null   int32  \n",
      "dtypes: float64(21), int32(1), int64(16)\n",
      "memory usage: 2.4 MB\n"
     ]
    },
    {
     "data": {
      "text/html": [
       "<div>\n",
       "<style scoped>\n",
       "    .dataframe tbody tr th:only-of-type {\n",
       "        vertical-align: middle;\n",
       "    }\n",
       "\n",
       "    .dataframe tbody tr th {\n",
       "        vertical-align: top;\n",
       "    }\n",
       "\n",
       "    .dataframe thead th {\n",
       "        text-align: right;\n",
       "    }\n",
       "</style>\n",
       "<table border=\"1\" class=\"dataframe\">\n",
       "  <thead>\n",
       "    <tr style=\"text-align: right;\">\n",
       "      <th></th>\n",
       "      <th>ACCTAGE</th>\n",
       "      <th>DDA</th>\n",
       "      <th>DDABAL</th>\n",
       "      <th>DEP</th>\n",
       "      <th>DEPAMT</th>\n",
       "      <th>CHECKS</th>\n",
       "      <th>DIRDEP</th>\n",
       "      <th>NSF</th>\n",
       "      <th>NSFAMT</th>\n",
       "      <th>PHONE</th>\n",
       "      <th>...</th>\n",
       "      <th>CCPURC</th>\n",
       "      <th>SDB</th>\n",
       "      <th>INCOME</th>\n",
       "      <th>LORES</th>\n",
       "      <th>HMVAL</th>\n",
       "      <th>AGE</th>\n",
       "      <th>CRSCORE</th>\n",
       "      <th>INAREA</th>\n",
       "      <th>INS</th>\n",
       "      <th>BRANCH</th>\n",
       "    </tr>\n",
       "  </thead>\n",
       "  <tbody>\n",
       "    <tr>\n",
       "      <th>0</th>\n",
       "      <td>0.7</td>\n",
       "      <td>1</td>\n",
       "      <td>1986.81</td>\n",
       "      <td>1</td>\n",
       "      <td>446.93</td>\n",
       "      <td>1</td>\n",
       "      <td>1</td>\n",
       "      <td>0</td>\n",
       "      <td>0.00</td>\n",
       "      <td>0.0</td>\n",
       "      <td>...</td>\n",
       "      <td>1.0</td>\n",
       "      <td>0</td>\n",
       "      <td>4.0</td>\n",
       "      <td>7.0</td>\n",
       "      <td>87.0</td>\n",
       "      <td>51.0</td>\n",
       "      <td>674.0</td>\n",
       "      <td>1</td>\n",
       "      <td>0</td>\n",
       "      <td>2</td>\n",
       "    </tr>\n",
       "    <tr>\n",
       "      <th>1</th>\n",
       "      <td>4.1</td>\n",
       "      <td>0</td>\n",
       "      <td>0.00</td>\n",
       "      <td>0</td>\n",
       "      <td>0.00</td>\n",
       "      <td>0</td>\n",
       "      <td>0</td>\n",
       "      <td>0</td>\n",
       "      <td>0.00</td>\n",
       "      <td>0.0</td>\n",
       "      <td>...</td>\n",
       "      <td>0.0</td>\n",
       "      <td>0</td>\n",
       "      <td>30.0</td>\n",
       "      <td>8.5</td>\n",
       "      <td>97.0</td>\n",
       "      <td>60.0</td>\n",
       "      <td>640.0</td>\n",
       "      <td>1</td>\n",
       "      <td>1</td>\n",
       "      <td>3</td>\n",
       "    </tr>\n",
       "    <tr>\n",
       "      <th>2</th>\n",
       "      <td>12.3</td>\n",
       "      <td>1</td>\n",
       "      <td>1069.78</td>\n",
       "      <td>5</td>\n",
       "      <td>6813.58</td>\n",
       "      <td>13</td>\n",
       "      <td>1</td>\n",
       "      <td>0</td>\n",
       "      <td>0.00</td>\n",
       "      <td>2.0</td>\n",
       "      <td>...</td>\n",
       "      <td>0.0</td>\n",
       "      <td>0</td>\n",
       "      <td>19.0</td>\n",
       "      <td>3.0</td>\n",
       "      <td>107.0</td>\n",
       "      <td>55.0</td>\n",
       "      <td>662.0</td>\n",
       "      <td>1</td>\n",
       "      <td>1</td>\n",
       "      <td>7</td>\n",
       "    </tr>\n",
       "    <tr>\n",
       "      <th>3</th>\n",
       "      <td>0.8</td>\n",
       "      <td>1</td>\n",
       "      <td>190.03</td>\n",
       "      <td>3</td>\n",
       "      <td>880.25</td>\n",
       "      <td>1</td>\n",
       "      <td>0</td>\n",
       "      <td>1</td>\n",
       "      <td>5.65</td>\n",
       "      <td>-1.0</td>\n",
       "      <td>...</td>\n",
       "      <td>-1.0</td>\n",
       "      <td>1</td>\n",
       "      <td>20.0</td>\n",
       "      <td>4.0</td>\n",
       "      <td>107.0</td>\n",
       "      <td>40.0</td>\n",
       "      <td>642.0</td>\n",
       "      <td>1</td>\n",
       "      <td>0</td>\n",
       "      <td>14</td>\n",
       "    </tr>\n",
       "    <tr>\n",
       "      <th>4</th>\n",
       "      <td>1.6</td>\n",
       "      <td>1</td>\n",
       "      <td>257.13</td>\n",
       "      <td>5</td>\n",
       "      <td>3408.35</td>\n",
       "      <td>14</td>\n",
       "      <td>0</td>\n",
       "      <td>1</td>\n",
       "      <td>60.25</td>\n",
       "      <td>-1.0</td>\n",
       "      <td>...</td>\n",
       "      <td>-1.0</td>\n",
       "      <td>0</td>\n",
       "      <td>24.0</td>\n",
       "      <td>8.5</td>\n",
       "      <td>95.0</td>\n",
       "      <td>54.0</td>\n",
       "      <td>732.0</td>\n",
       "      <td>1</td>\n",
       "      <td>0</td>\n",
       "      <td>15</td>\n",
       "    </tr>\n",
       "  </tbody>\n",
       "</table>\n",
       "<p>5 rows × 38 columns</p>\n",
       "</div>"
      ],
      "text/plain": [
       "   ACCTAGE  DDA   DDABAL  DEP   DEPAMT  CHECKS  DIRDEP  NSF  NSFAMT  PHONE  \\\n",
       "0      0.7    1  1986.81    1   446.93       1       1    0    0.00    0.0   \n",
       "1      4.1    0     0.00    0     0.00       0       0    0    0.00    0.0   \n",
       "2     12.3    1  1069.78    5  6813.58      13       1    0    0.00    2.0   \n",
       "3      0.8    1   190.03    3   880.25       1       0    1    5.65   -1.0   \n",
       "4      1.6    1   257.13    5  3408.35      14       0    1   60.25   -1.0   \n",
       "\n",
       "   ...  CCPURC  SDB  INCOME  LORES  HMVAL   AGE  CRSCORE  INAREA  INS  BRANCH  \n",
       "0  ...     1.0    0     4.0    7.0   87.0  51.0    674.0       1    0       2  \n",
       "1  ...     0.0    0    30.0    8.5   97.0  60.0    640.0       1    1       3  \n",
       "2  ...     0.0    0    19.0    3.0  107.0  55.0    662.0       1    1       7  \n",
       "3  ...    -1.0    1    20.0    4.0  107.0  40.0    642.0       1    0      14  \n",
       "4  ...    -1.0    0    24.0    8.5   95.0  54.0    732.0       1    0      15  \n",
       "\n",
       "[5 rows x 38 columns]"
      ]
     },
     "execution_count": 5,
     "metadata": {},
     "output_type": "execute_result"
    }
   ],
   "source": [
    "df.info()\n",
    "\n",
    "df.describe()\n",
    "\n",
    "df.head()"
   ]
  },
  {
   "cell_type": "markdown",
   "id": "d2e014a3",
   "metadata": {},
   "source": [
    "# Create variables for use with Random Forest Model"
   ]
  },
  {
   "cell_type": "markdown",
   "id": "1edcc315",
   "metadata": {},
   "source": [
    "#### These variables will be used in portions of XGBoost modeling that follows later in this notebook. We will also initialize a set of x variables that include a random variable for variable selection in later steps."
   ]
  },
  {
   "cell_type": "code",
   "execution_count": 6,
   "id": "4345a03c",
   "metadata": {},
   "outputs": [
    {
     "name": "stdout",
     "output_type": "stream",
     "text": [
      "<class 'pandas.core.frame.DataFrame'>\n",
      "RangeIndex: 8495 entries, 0 to 8494\n",
      "Data columns (total 38 columns):\n",
      " #   Column      Non-Null Count  Dtype  \n",
      "---  ------      --------------  -----  \n",
      " 0   ACCTAGE     8495 non-null   float64\n",
      " 1   DDA         8495 non-null   int64  \n",
      " 2   DDABAL      8495 non-null   float64\n",
      " 3   DEP         8495 non-null   int64  \n",
      " 4   DEPAMT      8495 non-null   float64\n",
      " 5   CHECKS      8495 non-null   int64  \n",
      " 6   DIRDEP      8495 non-null   int64  \n",
      " 7   NSF         8495 non-null   int64  \n",
      " 8   NSFAMT      8495 non-null   float64\n",
      " 9   PHONE       8495 non-null   float64\n",
      " 10  TELLER      8495 non-null   int64  \n",
      " 11  SAV         8495 non-null   int64  \n",
      " 12  SAVBAL      8495 non-null   float64\n",
      " 13  ATM         8495 non-null   int64  \n",
      " 14  ATMAMT      8495 non-null   float64\n",
      " 15  POS         8495 non-null   float64\n",
      " 16  POSAMT      8495 non-null   float64\n",
      " 17  CD          8495 non-null   int64  \n",
      " 18  CDBAL       8495 non-null   int64  \n",
      " 19  IRA         8495 non-null   int64  \n",
      " 20  IRABAL      8495 non-null   float64\n",
      " 21  INV         8495 non-null   float64\n",
      " 22  INVBAL      8495 non-null   float64\n",
      " 23  MM          8495 non-null   int64  \n",
      " 24  MMBAL       8495 non-null   float64\n",
      " 25  MMCRED      8495 non-null   int64  \n",
      " 26  CC          8495 non-null   float64\n",
      " 27  CCBAL       8495 non-null   float64\n",
      " 28  CCPURC      8495 non-null   float64\n",
      " 29  SDB         8495 non-null   int64  \n",
      " 30  INCOME      8495 non-null   float64\n",
      " 31  LORES       8495 non-null   float64\n",
      " 32  HMVAL       8495 non-null   float64\n",
      " 33  AGE         8495 non-null   float64\n",
      " 34  CRSCORE     8495 non-null   float64\n",
      " 35  INAREA      8495 non-null   int64  \n",
      " 36  BRANCH      8495 non-null   int32  \n",
      " 37  randNumCol  8495 non-null   int32  \n",
      "dtypes: float64(21), int32(2), int64(15)\n",
      "memory usage: 2.4 MB\n",
      "None\n",
      "<class 'pandas.core.frame.DataFrame'>\n",
      "RangeIndex: 8495 entries, 0 to 8494\n",
      "Data columns (total 37 columns):\n",
      " #   Column   Non-Null Count  Dtype  \n",
      "---  ------   --------------  -----  \n",
      " 0   ACCTAGE  8495 non-null   float64\n",
      " 1   DDA      8495 non-null   int64  \n",
      " 2   DDABAL   8495 non-null   float64\n",
      " 3   DEP      8495 non-null   int64  \n",
      " 4   DEPAMT   8495 non-null   float64\n",
      " 5   CHECKS   8495 non-null   int64  \n",
      " 6   DIRDEP   8495 non-null   int64  \n",
      " 7   NSF      8495 non-null   int64  \n",
      " 8   NSFAMT   8495 non-null   float64\n",
      " 9   PHONE    8495 non-null   float64\n",
      " 10  TELLER   8495 non-null   int64  \n",
      " 11  SAV      8495 non-null   int64  \n",
      " 12  SAVBAL   8495 non-null   float64\n",
      " 13  ATM      8495 non-null   int64  \n",
      " 14  ATMAMT   8495 non-null   float64\n",
      " 15  POS      8495 non-null   float64\n",
      " 16  POSAMT   8495 non-null   float64\n",
      " 17  CD       8495 non-null   int64  \n",
      " 18  CDBAL    8495 non-null   int64  \n",
      " 19  IRA      8495 non-null   int64  \n",
      " 20  IRABAL   8495 non-null   float64\n",
      " 21  INV      8495 non-null   float64\n",
      " 22  INVBAL   8495 non-null   float64\n",
      " 23  MM       8495 non-null   int64  \n",
      " 24  MMBAL    8495 non-null   float64\n",
      " 25  MMCRED   8495 non-null   int64  \n",
      " 26  CC       8495 non-null   float64\n",
      " 27  CCBAL    8495 non-null   float64\n",
      " 28  CCPURC   8495 non-null   float64\n",
      " 29  SDB      8495 non-null   int64  \n",
      " 30  INCOME   8495 non-null   float64\n",
      " 31  LORES    8495 non-null   float64\n",
      " 32  HMVAL    8495 non-null   float64\n",
      " 33  AGE      8495 non-null   float64\n",
      " 34  CRSCORE  8495 non-null   float64\n",
      " 35  INAREA   8495 non-null   int64  \n",
      " 36  BRANCH   8495 non-null   int32  \n",
      "dtypes: float64(21), int32(1), int64(15)\n",
      "memory usage: 2.4 MB\n",
      "None\n"
     ]
    }
   ],
   "source": [
    "df2['randNumCol'] = np.random.randint(1, 25, df.shape[0])\n",
    "\n",
    "x = df.drop(['INS'], axis = 1)\n",
    "y = df['INS']\n",
    "\n",
    "x1 = df2.drop(['INS'], axis = 1)\n",
    "y1 = df2['INS']\n",
    "\n",
    "folds=10\n",
    "\n",
    "print(x1.info())\n",
    "print(x.info())"
   ]
  },
  {
   "cell_type": "markdown",
   "id": "60ff5807",
   "metadata": {},
   "source": [
    "# Create Random Forest Model"
   ]
  },
  {
   "cell_type": "markdown",
   "id": "b18a0658",
   "metadata": {},
   "source": [
    "#### First we'll check the paramters that we can tune, and which we will leave as default."
   ]
  },
  {
   "cell_type": "code",
   "execution_count": 7,
   "id": "e31e6678",
   "metadata": {},
   "outputs": [
    {
     "data": {
      "text/plain": [
       "{'bootstrap': True,\n",
       " 'ccp_alpha': 0.0,\n",
       " 'class_weight': None,\n",
       " 'criterion': 'gini',\n",
       " 'max_depth': None,\n",
       " 'max_features': 'auto',\n",
       " 'max_leaf_nodes': None,\n",
       " 'max_samples': None,\n",
       " 'min_impurity_decrease': 0.0,\n",
       " 'min_impurity_split': None,\n",
       " 'min_samples_leaf': 1,\n",
       " 'min_samples_split': 2,\n",
       " 'min_weight_fraction_leaf': 0.0,\n",
       " 'n_estimators': 100,\n",
       " 'n_jobs': None,\n",
       " 'oob_score': False,\n",
       " 'random_state': 13,\n",
       " 'verbose': 0,\n",
       " 'warm_start': False}"
      ]
     },
     "execution_count": 7,
     "metadata": {},
     "output_type": "execute_result"
    }
   ],
   "source": [
    "rf = rfc(random_state = 13)\n",
    "\n",
    "rf.get_params()"
   ]
  },
  {
   "cell_type": "markdown",
   "id": "55bf80b4",
   "metadata": {},
   "source": [
    "#### Utilizing SKLearn's RandomizedSearchCV allows an analyst to feed a model into it and cross validate across parameters to choose the optimal set of parameters that we are trying to tune. We'll tune max_depth, min_samples_leaf, and n_estimators"
   ]
  },
  {
   "cell_type": "code",
   "execution_count": 8,
   "id": "f26fba71",
   "metadata": {},
   "outputs": [
    {
     "name": "stdout",
     "output_type": "stream",
     "text": [
      "Fitting 10 folds for each of 100 candidates, totalling 1000 fits\n"
     ]
    }
   ],
   "source": [
    "params_rfc = {'max_depth': [1,2,3,4,5], 'min_samples_leaf': [10, 15, 20, 25], \n",
    "          'n_estimators': [100, 200, 300, 400, 500]}\n",
    "\n",
    "skf_rfc = StratifiedKFold(n_splits=folds, shuffle=True, random_state=13)\n",
    "\n",
    "clf = rfc(oob_score = True, max_features = 'auto', random_state=13)\n",
    "\n",
    "rfc_search = GridSearchCV(clf, param_grid = params_rfc, scoring = 'roc_auc', n_jobs = 4, \n",
    "                          cv = skf_rfc.split(x,y), verbose = 3)\n",
    "\n",
    "a = rfc_search.fit(x,y)"
   ]
  },
  {
   "cell_type": "markdown",
   "id": "a65b0cc5",
   "metadata": {},
   "source": [
    "#### Grab the best parameters from our grid search."
   ]
  },
  {
   "cell_type": "code",
   "execution_count": 9,
   "id": "64607f19",
   "metadata": {},
   "outputs": [
    {
     "data": {
      "text/plain": [
       "{'max_depth': 5, 'min_samples_leaf': 20, 'n_estimators': 500}"
      ]
     },
     "execution_count": 9,
     "metadata": {},
     "output_type": "execute_result"
    }
   ],
   "source": [
    "a.best_params_"
   ]
  },
  {
   "cell_type": "markdown",
   "id": "a41cee8d",
   "metadata": {},
   "source": [
    "#### Check to see what the best ROC AUC was from the iterations in RandomizedSearchCV"
   ]
  },
  {
   "cell_type": "code",
   "execution_count": 10,
   "id": "a6bb81a0",
   "metadata": {},
   "outputs": [
    {
     "data": {
      "text/plain": [
       "0.7841956238009422"
      ]
     },
     "execution_count": 10,
     "metadata": {},
     "output_type": "execute_result"
    }
   ],
   "source": [
    "a.best_score_"
   ]
  },
  {
   "cell_type": "markdown",
   "id": "2d934747",
   "metadata": {},
   "source": [
    "#### Run the Random Forest Classifier again but now with our optimized parameters"
   ]
  },
  {
   "cell_type": "code",
   "execution_count": 11,
   "id": "2f3517ba",
   "metadata": {},
   "outputs": [],
   "source": [
    "clf_1 = rfc(n_estimators = 500, oob_score = True, max_features = 'auto', \n",
    "          random_state = 13, min_samples_leaf = 20, max_depth = 5)\n",
    "\n",
    "b = clf_1.fit(x,y)"
   ]
  },
  {
   "cell_type": "markdown",
   "id": "c2ae0085",
   "metadata": {},
   "source": [
    "#### Out of Bag Score"
   ]
  },
  {
   "cell_type": "code",
   "execution_count": 12,
   "id": "d4c1a505",
   "metadata": {},
   "outputs": [
    {
     "name": "stdout",
     "output_type": "stream",
     "text": [
      "0.7241907004120071\n"
     ]
    }
   ],
   "source": [
    "print(b.oob_score_)"
   ]
  },
  {
   "cell_type": "markdown",
   "id": "46fbde5e",
   "metadata": {},
   "source": [
    "#### Get feature importances for the estimators as well as the names of the variables. By putting them both in a dataframe, we can concatenate them in the following step"
   ]
  },
  {
   "cell_type": "code",
   "execution_count": 13,
   "id": "be32451b",
   "metadata": {},
   "outputs": [],
   "source": [
    "cols = pd.DataFrame(x.columns, columns = ['Features'])\n",
    "\n",
    "c = pd.DataFrame(b.feature_importances_, columns = ['Importance'])"
   ]
  },
  {
   "cell_type": "markdown",
   "id": "d942d2b8",
   "metadata": {},
   "source": [
    "#### Concatenate the DFs built above, adding in combining feature names with their importance."
   ]
  },
  {
   "cell_type": "code",
   "execution_count": 14,
   "id": "df9e760b",
   "metadata": {},
   "outputs": [
    {
     "name": "stdout",
     "output_type": "stream",
     "text": [
      "+----+------------+--------------+\n",
      "|    | Features   |   Importance |\n",
      "|----+------------+--------------|\n",
      "| 12 | SAVBAL     |  0.277719    |\n",
      "|  2 | DDABAL     |  0.128082    |\n",
      "| 18 | CDBAL      |  0.0987414   |\n",
      "| 17 | CD         |  0.073195    |\n",
      "|  1 | DDA        |  0.059066    |\n",
      "| 24 | MMBAL      |  0.0484558   |\n",
      "| 23 | MM         |  0.0426516   |\n",
      "|  4 | DEPAMT     |  0.0358219   |\n",
      "| 11 | SAV        |  0.0284973   |\n",
      "|  3 | DEP        |  0.0225113   |\n",
      "| 26 | CC         |  0.0214128   |\n",
      "| 14 | ATMAMT     |  0.0212421   |\n",
      "| 20 | IRABAL     |  0.0186618   |\n",
      "| 19 | IRA        |  0.0165186   |\n",
      "|  5 | CHECKS     |  0.0119853   |\n",
      "| 27 | CCBAL      |  0.0108335   |\n",
      "| 36 | BRANCH     |  0.00990967  |\n",
      "| 21 | INV        |  0.00790787  |\n",
      "| 13 | ATM        |  0.00634588  |\n",
      "| 32 | HMVAL      |  0.00620465  |\n",
      "|  0 | ACCTAGE    |  0.00581309  |\n",
      "| 10 | TELLER     |  0.00526404  |\n",
      "|  9 | PHONE      |  0.00500496  |\n",
      "| 34 | CRSCORE    |  0.00492499  |\n",
      "| 30 | INCOME     |  0.00474173  |\n",
      "| 16 | POSAMT     |  0.00468668  |\n",
      "| 33 | AGE        |  0.00416471  |\n",
      "| 28 | CCPURC     |  0.00410011  |\n",
      "| 15 | POS        |  0.00350552  |\n",
      "| 22 | INVBAL     |  0.00339494  |\n",
      "| 31 | LORES      |  0.00336933  |\n",
      "| 25 | MMCRED     |  0.00234938  |\n",
      "|  6 | DIRDEP     |  0.00126502  |\n",
      "|  8 | NSFAMT     |  0.000680544 |\n",
      "| 29 | SDB        |  0.000429645 |\n",
      "|  7 | NSF        |  0.000272146 |\n",
      "| 35 | INAREA     |  0.000269708 |\n",
      "+----+------------+--------------+\n"
     ]
    }
   ],
   "source": [
    "d = pd.concat([cols, c], join='outer', axis=1)\n",
    "\n",
    "e = tabulate(d.sort_values(by='Importance', ascending=False), headers = d.columns, tablefmt = 'psql')\n",
    "\n",
    "print(e)"
   ]
  },
  {
   "cell_type": "markdown",
   "id": "a35cf444",
   "metadata": {},
   "source": [
    "#### Plot the ROC Curve"
   ]
  },
  {
   "cell_type": "code",
   "execution_count": 15,
   "id": "341fb928",
   "metadata": {},
   "outputs": [
    {
     "data": {
      "image/png": "[encoded data removed]",
      "text/plain": [
       "<Figure size 432x288 with 1 Axes>"
      ]
     },
     "metadata": {
      "needs_background": "light"
     },
     "output_type": "display_data"
    }
   ],
   "source": [
    "ax = plt.gca()\n",
    "\n",
    "rfc_disp = plot_roc_curve(b, x, y, ax=ax, alpha=0.5)"
   ]
  },
  {
   "cell_type": "markdown",
   "id": "f4da95bd",
   "metadata": {},
   "source": [
    "#### Same steps as above but with random integer variable so that we can see if there is variable selection that needs doing."
   ]
  },
  {
   "cell_type": "code",
   "execution_count": 16,
   "id": "86a97aef",
   "metadata": {},
   "outputs": [
    {
     "name": "stdout",
     "output_type": "stream",
     "text": [
      "+----+------------+--------------+\n",
      "|    | Features   |   Importance |\n",
      "|----+------------+--------------|\n",
      "| 12 | SAVBAL     |  0.271132    |\n",
      "|  2 | DDABAL     |  0.122696    |\n",
      "| 18 | CDBAL      |  0.109659    |\n",
      "| 17 | CD         |  0.0629749   |\n",
      "|  1 | DDA        |  0.0578503   |\n",
      "| 24 | MMBAL      |  0.0470111   |\n",
      "| 23 | MM         |  0.0414778   |\n",
      "|  4 | DEPAMT     |  0.0383359   |\n",
      "| 11 | SAV        |  0.0353322   |\n",
      "|  3 | DEP        |  0.0247692   |\n",
      "| 26 | CC         |  0.022466    |\n",
      "| 14 | ATMAMT     |  0.0221595   |\n",
      "| 20 | IRABAL     |  0.0219283   |\n",
      "| 19 | IRA        |  0.015281    |\n",
      "| 27 | CCBAL      |  0.0106757   |\n",
      "|  5 | CHECKS     |  0.0102356   |\n",
      "| 36 | BRANCH     |  0.00878921  |\n",
      "| 32 | HMVAL      |  0.0074144   |\n",
      "|  0 | ACCTAGE    |  0.00684489  |\n",
      "| 13 | ATM        |  0.00673511  |\n",
      "| 21 | INV        |  0.00667763  |\n",
      "|  9 | PHONE      |  0.00524139  |\n",
      "| 28 | CCPURC     |  0.00514793  |\n",
      "| 34 | CRSCORE    |  0.00508126  |\n",
      "| 33 | AGE        |  0.00418664  |\n",
      "| 30 | INCOME     |  0.00409933  |\n",
      "| 10 | TELLER     |  0.00396984  |\n",
      "| 15 | POS        |  0.00372617  |\n",
      "| 16 | POSAMT     |  0.00369563  |\n",
      "| 37 | randNumCol |  0.00324587  |\n",
      "| 22 | INVBAL     |  0.00310152  |\n",
      "| 31 | LORES      |  0.00289107  |\n",
      "| 25 | MMCRED     |  0.00223535  |\n",
      "|  6 | DIRDEP     |  0.00128712  |\n",
      "|  8 | NSFAMT     |  0.000592794 |\n",
      "| 29 | SDB        |  0.000452131 |\n",
      "| 35 | INAREA     |  0.000321028 |\n",
      "|  7 | NSF        |  0.00027881  |\n",
      "+----+------------+--------------+\n"
     ]
    }
   ],
   "source": [
    "b1 = clf_1.fit(x1,y1)\n",
    "\n",
    "cols1 = pd.DataFrame(x1.columns, columns = ['Features'])\n",
    "c1 = pd.DataFrame(b1.feature_importances_, columns = ['Importance'])\n",
    "\n",
    "\n",
    "d1 = pd.concat([cols1, c1], join='outer', axis=1)\n",
    "e1 = tabulate(d1.sort_values(by='Importance', ascending=False), headers = d1.columns, tablefmt = 'psql')\n",
    "\n",
    "print(e1)"
   ]
  },
  {
   "cell_type": "markdown",
   "id": "df3374b4",
   "metadata": {},
   "source": [
    "# XGBoost Modeling"
   ]
  },
  {
   "cell_type": "markdown",
   "id": "56c370d4",
   "metadata": {},
   "source": [
    "#### We will reuse x, y as well as folds from above. We are also going to use GridSearchCV as well to grid tune our XGBoost Classifier model."
   ]
  },
  {
   "cell_type": "code",
   "execution_count": 17,
   "id": "7a10c864",
   "metadata": {},
   "outputs": [
    {
     "name": "stdout",
     "output_type": "stream",
     "text": [
      "Fitting 10 folds for each of 100 candidates, totalling 1000 fits\n"
     ]
    },
    {
     "name": "stderr",
     "output_type": "stream",
     "text": [
      "The use of label encoder in XGBClassifier is deprecated and will be removed in a future release. To remove this warning, do the following: 1) Pass option use_label_encoder=False when constructing XGBClassifier object; and 2) Encode your labels (y) as integers starting with 0, i.e. 0, 1, 2, ..., [num_class - 1].\n"
     ]
    }
   ],
   "source": [
    "params = {'max_depth': [1,2,3,4,5], 'eta': [0.1,0.15,0.2,0.25,0.3], \n",
    "          'subsample': [0.25,0.5,0.75,1]}\n",
    "\n",
    "skf_xgb = StratifiedKFold(n_splits=folds, shuffle=True, random_state=13)\n",
    "\n",
    "\n",
    "bst = xgb.XGBClassifier(learning_rate=0.02, objective='binary:logistic', n_estimators = 500, \n",
    "                        eval_metric='rmse', gamma=0, colsample_bytree=1, min_child_weight=1)\n",
    "\n",
    "xgb_search = GridSearchCV(bst, param_grid=params, scoring='roc_auc', n_jobs=4, \n",
    "                                   cv=skf_xgb.split(x,y), verbose=3)\n",
    "\n",
    "f = xgb_search.fit(x,y)"
   ]
  },
  {
   "cell_type": "markdown",
   "id": "569fcc0a",
   "metadata": {},
   "source": [
    "#### Grab the best parameters from our tuning stage."
   ]
  },
  {
   "cell_type": "code",
   "execution_count": 18,
   "id": "50a545c4",
   "metadata": {},
   "outputs": [
    {
     "data": {
      "text/plain": [
       "{'eta': 0.1, 'max_depth': 4, 'subsample': 0.5}"
      ]
     },
     "execution_count": 18,
     "metadata": {},
     "output_type": "execute_result"
    }
   ],
   "source": [
    "f.best_params_"
   ]
  },
  {
   "cell_type": "markdown",
   "id": "e54a775c",
   "metadata": {},
   "source": [
    "#### See what the best ROC AUC was from our tuning iterations."
   ]
  },
  {
   "cell_type": "code",
   "execution_count": 19,
   "id": "8b081850",
   "metadata": {},
   "outputs": [
    {
     "data": {
      "text/plain": [
       "0.804600841589355"
      ]
     },
     "execution_count": 19,
     "metadata": {},
     "output_type": "execute_result"
    }
   ],
   "source": [
    "xgb_search.best_score_"
   ]
  },
  {
   "cell_type": "markdown",
   "id": "0e9f0b64",
   "metadata": {},
   "source": [
    "#### Refit XGBClassifier with freshly tuned parameters"
   ]
  },
  {
   "cell_type": "code",
   "execution_count": 20,
   "id": "a5ce3a32",
   "metadata": {},
   "outputs": [],
   "source": [
    "bst_1 = xgb.XGBClassifier(learning_rate=0.02, objective='binary:logistic', subsample = 0.5, \n",
    "                        max_depth = 4, eta = 0.1, n_estimators = 25, eval_metric='auc', random_state = 13)\n",
    "\n",
    "g = bst_1.fit(x,y)"
   ]
  },
  {
   "cell_type": "markdown",
   "id": "99ffc49f",
   "metadata": {},
   "source": [
    "#### Get feature importances from both versions of our fit. G1 contains the random integer variable we created."
   ]
  },
  {
   "cell_type": "code",
   "execution_count": 21,
   "id": "0ba06841",
   "metadata": {},
   "outputs": [],
   "source": [
    "h = pd.DataFrame(g.feature_importances_, columns = ['Importance'])"
   ]
  },
  {
   "cell_type": "markdown",
   "id": "42c941ff",
   "metadata": {},
   "source": [
    "#### Concatenate them and make them a pretty table purely for looks."
   ]
  },
  {
   "cell_type": "code",
   "execution_count": 22,
   "id": "4c23d0fa",
   "metadata": {},
   "outputs": [
    {
     "name": "stdout",
     "output_type": "stream",
     "text": [
      "+----+------------+--------------+\n",
      "|    | Features   |   Importance |\n",
      "|----+------------+--------------|\n",
      "| 12 | SAVBAL     |  0.277719    |\n",
      "|  2 | DDABAL     |  0.128082    |\n",
      "| 18 | CDBAL      |  0.0987414   |\n",
      "| 17 | CD         |  0.073195    |\n",
      "|  1 | DDA        |  0.059066    |\n",
      "| 24 | MMBAL      |  0.0484558   |\n",
      "| 23 | MM         |  0.0426516   |\n",
      "|  4 | DEPAMT     |  0.0358219   |\n",
      "| 11 | SAV        |  0.0284973   |\n",
      "|  3 | DEP        |  0.0225113   |\n",
      "| 26 | CC         |  0.0214128   |\n",
      "| 14 | ATMAMT     |  0.0212421   |\n",
      "| 20 | IRABAL     |  0.0186618   |\n",
      "| 19 | IRA        |  0.0165186   |\n",
      "|  5 | CHECKS     |  0.0119853   |\n",
      "| 27 | CCBAL      |  0.0108335   |\n",
      "| 36 | BRANCH     |  0.00990967  |\n",
      "| 21 | INV        |  0.00790787  |\n",
      "| 13 | ATM        |  0.00634588  |\n",
      "| 32 | HMVAL      |  0.00620465  |\n",
      "|  0 | ACCTAGE    |  0.00581309  |\n",
      "| 10 | TELLER     |  0.00526404  |\n",
      "|  9 | PHONE      |  0.00500496  |\n",
      "| 34 | CRSCORE    |  0.00492499  |\n",
      "| 30 | INCOME     |  0.00474173  |\n",
      "| 16 | POSAMT     |  0.00468668  |\n",
      "| 33 | AGE        |  0.00416471  |\n",
      "| 28 | CCPURC     |  0.00410011  |\n",
      "| 15 | POS        |  0.00350552  |\n",
      "| 22 | INVBAL     |  0.00339494  |\n",
      "| 31 | LORES      |  0.00336933  |\n",
      "| 25 | MMCRED     |  0.00234938  |\n",
      "|  6 | DIRDEP     |  0.00126502  |\n",
      "|  8 | NSFAMT     |  0.000680544 |\n",
      "| 29 | SDB        |  0.000429645 |\n",
      "|  7 | NSF        |  0.000272146 |\n",
      "| 35 | INAREA     |  0.000269708 |\n",
      "+----+------------+--------------+\n"
     ]
    }
   ],
   "source": [
    "i = pd.concat([cols, h], join='outer', axis=1)\n",
    "\n",
    "e = tabulate(d.sort_values(by='Importance', ascending=False), headers = i.columns, tablefmt = 'psql')\n",
    "\n",
    "print(e)"
   ]
  },
  {
   "cell_type": "markdown",
   "id": "5034a92e",
   "metadata": {},
   "source": [
    "#### Plot the ROC curve and get AUC from the plot."
   ]
  },
  {
   "cell_type": "code",
   "execution_count": 23,
   "id": "831a7a4f",
   "metadata": {},
   "outputs": [
    {
     "data": {
      "image/png": "[encoded data removed]",
      "text/plain": [
       "<Figure size 432x288 with 1 Axes>"
      ]
     },
     "metadata": {
      "needs_background": "light"
     },
     "output_type": "display_data"
    }
   ],
   "source": [
    "ax = plt.gca()\n",
    "\n",
    "xgb_disp = plot_roc_curve(g, x, y, ax=ax, alpha=0.5)"
   ]
  },
  {
   "cell_type": "markdown",
   "id": "19c021c4",
   "metadata": {},
   "source": [
    "#### Repeat the same steps from above but with the random number for potential variable selection"
   ]
  },
  {
   "cell_type": "code",
   "execution_count": 24,
   "id": "69aa7a7c",
   "metadata": {},
   "outputs": [
    {
     "name": "stdout",
     "output_type": "stream",
     "text": [
      "+----+------------+--------------+\n",
      "|    | Features   |   Importance |\n",
      "|----+------------+--------------|\n",
      "| 12 | SAVBAL     |  0.271132    |\n",
      "|  2 | DDABAL     |  0.122696    |\n",
      "| 18 | CDBAL      |  0.109659    |\n",
      "| 17 | CD         |  0.0629749   |\n",
      "|  1 | DDA        |  0.0578503   |\n",
      "| 24 | MMBAL      |  0.0470111   |\n",
      "| 23 | MM         |  0.0414778   |\n",
      "|  4 | DEPAMT     |  0.0383359   |\n",
      "| 11 | SAV        |  0.0353322   |\n",
      "|  3 | DEP        |  0.0247692   |\n",
      "| 26 | CC         |  0.022466    |\n",
      "| 14 | ATMAMT     |  0.0221595   |\n",
      "| 20 | IRABAL     |  0.0219283   |\n",
      "| 19 | IRA        |  0.015281    |\n",
      "| 27 | CCBAL      |  0.0106757   |\n",
      "|  5 | CHECKS     |  0.0102356   |\n",
      "| 36 | BRANCH     |  0.00878921  |\n",
      "| 32 | HMVAL      |  0.0074144   |\n",
      "|  0 | ACCTAGE    |  0.00684489  |\n",
      "| 13 | ATM        |  0.00673511  |\n",
      "| 21 | INV        |  0.00667763  |\n",
      "|  9 | PHONE      |  0.00524139  |\n",
      "| 28 | CCPURC     |  0.00514793  |\n",
      "| 34 | CRSCORE    |  0.00508126  |\n",
      "| 33 | AGE        |  0.00418664  |\n",
      "| 30 | INCOME     |  0.00409933  |\n",
      "| 10 | TELLER     |  0.00396984  |\n",
      "| 15 | POS        |  0.00372617  |\n",
      "| 16 | POSAMT     |  0.00369563  |\n",
      "| 37 | randNumCol |  0.00324587  |\n",
      "| 22 | INVBAL     |  0.00310152  |\n",
      "| 31 | LORES      |  0.00289107  |\n",
      "| 25 | MMCRED     |  0.00223535  |\n",
      "|  6 | DIRDEP     |  0.00128712  |\n",
      "|  8 | NSFAMT     |  0.000592794 |\n",
      "| 29 | SDB        |  0.000452131 |\n",
      "| 35 | INAREA     |  0.000321028 |\n",
      "|  7 | NSF        |  0.00027881  |\n",
      "+----+------------+--------------+\n"
     ]
    },
    {
     "name": "stderr",
     "output_type": "stream",
     "text": [
      "The use of label encoder in XGBClassifier is deprecated and will be removed in a future release. To remove this warning, do the following: 1) Pass option use_label_encoder=False when constructing XGBClassifier object; and 2) Encode your labels (y) as integers starting with 0, i.e. 0, 1, 2, ..., [num_class - 1].\n"
     ]
    }
   ],
   "source": [
    "g1 = bst_1.fit(x1,y1)\n",
    "\n",
    "h1 = pd.DataFrame(g1.feature_importances_, columns = ['Importance'])\n",
    "\n",
    "i1 = pd.concat([cols1, h1], join='outer', axis=1)\n",
    "\n",
    "e1 = tabulate(d1.sort_values(by='Importance', ascending=False), headers = i.columns, tablefmt = 'psql')\n",
    "\n",
    "print(e1)"
   ]
  },
  {
   "cell_type": "markdown",
   "id": "e968d55f",
   "metadata": {},
   "source": [
    "# Take the model to the validation set"
   ]
  },
  {
   "cell_type": "code",
   "execution_count": 25,
   "id": "961eb716",
   "metadata": {},
   "outputs": [],
   "source": [
    "x_v = df3.drop(['INS'], axis = 1)\n",
    "y_v = df3['INS']"
   ]
  },
  {
   "cell_type": "markdown",
   "id": "fb4514f8",
   "metadata": {},
   "source": [
    "#### Fit the model with variables created above from the validation set"
   ]
  },
  {
   "cell_type": "code",
   "execution_count": 26,
   "id": "e5ca4150",
   "metadata": {},
   "outputs": [],
   "source": [
    "bst_v = xgb.XGBClassifier(learning_rate=0.02, objective='binary:logistic', subsample = 0.5, \n",
    "                        max_depth = 4, eta = 0.1, n_estimators = 25, eval_metric='auc', random_state = 13)\n",
    "\n",
    "q = bst_v.fit(x_v,y_v)"
   ]
  },
  {
   "cell_type": "markdown",
   "id": "f93b2b75",
   "metadata": {},
   "source": [
    "#### ROC Curve"
   ]
  },
  {
   "cell_type": "code",
   "execution_count": 27,
   "id": "1ef761c6",
   "metadata": {},
   "outputs": [
    {
     "data": {
      "image/png": "[encoded data removed]",
      "text/plain": [
       "<Figure size 432x288 with 1 Axes>"
      ]
     },
     "metadata": {
      "needs_background": "light"
     },
     "output_type": "display_data"
    }
   ],
   "source": [
    "ax = plt.gca()\n",
    "\n",
    "xgb_disp1 = plot_roc_curve(q, x_v, y_v, ax=ax, alpha=0.5)"
   ]
  },
  {
   "cell_type": "markdown",
   "id": "b01cbaaf",
   "metadata": {},
   "source": [
    "#### Partial dependence plot for ACCTAGE"
   ]
  },
  {
   "cell_type": "code",
   "execution_count": 28,
   "id": "7e2a925a",
   "metadata": {},
   "outputs": [
    {
     "data": {
      "image/png": "[encoded data removed]",
      "text/plain": [
       "<Figure size 432x288 with 2 Axes>"
      ]
     },
     "metadata": {
      "needs_background": "light"
     },
     "output_type": "display_data"
    }
   ],
   "source": [
    "from sklearn.inspection import plot_partial_dependence\n",
    "\n",
    "disp_v = plot_partial_dependence(q, x_v, [0])"
   ]
  },
  {
   "cell_type": "markdown",
   "id": "4e94de6b",
   "metadata": {},
   "source": [
    "#### Feature importances"
   ]
  },
  {
   "cell_type": "code",
   "execution_count": 29,
   "id": "364478ad",
   "metadata": {},
   "outputs": [
    {
     "name": "stdout",
     "output_type": "stream",
     "text": [
      "+----+------------+--------------+\n",
      "|    | Features   |   Importance |\n",
      "|----+------------+--------------|\n",
      "| 12 | SAVBAL     |   0.159819   |\n",
      "| 23 | MM         |   0.140291   |\n",
      "| 24 | MMBAL      |   0.137456   |\n",
      "|  1 | DDA        |   0.125521   |\n",
      "|  2 | DDABAL     |   0.0725955  |\n",
      "| 19 | IRA        |   0.0455315  |\n",
      "| 18 | CDBAL      |   0.0410005  |\n",
      "| 27 | CCBAL      |   0.0186603  |\n",
      "| 20 | IRABAL     |   0.0168636  |\n",
      "|  9 | PHONE      |   0.0161411  |\n",
      "| 16 | POSAMT     |   0.0156902  |\n",
      "|  0 | ACCTAGE    |   0.0156685  |\n",
      "| 36 | BRANCH     |   0.0153812  |\n",
      "| 17 | CD         |   0.0153517  |\n",
      "|  5 | CHECKS     |   0.0144107  |\n",
      "| 21 | INV        |   0.0134873  |\n",
      "| 32 | HMVAL      |   0.0118623  |\n",
      "| 30 | INCOME     |   0.0115344  |\n",
      "| 31 | LORES      |   0.0104121  |\n",
      "|  4 | DEPAMT     |   0.0100864  |\n",
      "|  3 | DEP        |   0.00998901 |\n",
      "| 14 | ATMAMT     |   0.00998232 |\n",
      "| 26 | CC         |   0.00991405 |\n",
      "| 33 | AGE        |   0.00973343 |\n",
      "| 15 | POS        |   0.00939875 |\n",
      "| 28 | CCPURC     |   0.0088776  |\n",
      "|  6 | DIRDEP     |   0.00875525 |\n",
      "| 34 | CRSCORE    |   0.00859867 |\n",
      "| 10 | TELLER     |   0.00631761 |\n",
      "| 11 | SAV        |   0.00551894 |\n",
      "| 25 | MMCRED     |   0.00515013 |\n",
      "|  7 | NSF        |   0          |\n",
      "| 29 | SDB        |   0          |\n",
      "| 13 | ATM        |   0          |\n",
      "|  8 | NSFAMT     |   0          |\n",
      "| 22 | INVBAL     |   0          |\n",
      "| 35 | INAREA     |   0          |\n",
      "+----+------------+--------------+\n"
     ]
    }
   ],
   "source": [
    "r = pd.DataFrame(q.feature_importances_, columns = ['Importance'])\n",
    "\n",
    "s = pd.concat([cols, h], join='outer', axis=1)\n",
    "\n",
    "t = tabulate(s.sort_values(by='Importance', ascending=False), headers = i.columns, tablefmt = 'psql')\n",
    "\n",
    "print(t)"
   ]
  },
  {
   "cell_type": "code",
   "execution_count": null,
   "id": "96b36383",
   "metadata": {},
   "outputs": [],
   "source": []
  }
 ],
 "metadata": {
  "kernelspec": {
   "display_name": "Python 3",
   "language": "python",
   "name": "python3"
  },
  "language_info": {
   "codemirror_mode": {
    "name": "ipython",
    "version": 3
   },
   "file_extension": ".py",
   "mimetype": "text/x-python",
   "name": "python",
   "nbconvert_exporter": "python",
   "pygments_lexer": "ipython3",
   "version": "3.8.8"
  }
 },
 "nbformat": 4,
 "nbformat_minor": 5
}
